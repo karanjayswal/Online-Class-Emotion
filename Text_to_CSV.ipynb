{
  "nbformat": 4,
  "nbformat_minor": 0,
  "metadata": {
    "colab": {
      "name": "Text to CSV",
      "provenance": [],
      "collapsed_sections": [],
      "authorship_tag": "ABX9TyNUu9bu2y1t5ekKZEGMUEjt",
      "include_colab_link": true
    },
    "kernelspec": {
      "name": "python3",
      "display_name": "Python 3"
    },
    "language_info": {
      "name": "python"
    }
  },
  "cells": [
    {
      "cell_type": "markdown",
      "metadata": {
        "id": "view-in-github",
        "colab_type": "text"
      },
      "source": [
        "<a href=\"https://colab.research.google.com/github/karanjayswal/Online-Class-Emotion/blob/31-May/Text_to_CSV.ipynb\" target=\"_parent\"><img src=\"https://colab.research.google.com/assets/colab-badge.svg\" alt=\"Open In Colab\"/></a>"
      ]
    },
    {
      "cell_type": "code",
      "execution_count": 1,
      "metadata": {
        "colab": {
          "resources": {
            "http://localhost:8080/nbextensions/google.colab/files.js": {
              "data": "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",
              "ok": true,
              "headers": [
                [
                  "content-type",
                  "application/javascript"
                ]
              ],
              "status": 200,
              "status_text": "OK"
            }
          },
          "base_uri": "https://localhost:8080/",
          "height": 74
        },
        "id": "pjCMytoNTqHX",
        "outputId": "e76f6855-86dc-444a-9ade-0513445f0cbc"
      },
      "outputs": [
        {
          "output_type": "display_data",
          "data": {
            "text/plain": [
              "<IPython.core.display.HTML object>"
            ],
            "text/html": [
              "\n",
              "     <input type=\"file\" id=\"files-e0483b4f-a139-4b5a-a68b-ec0c33a8cd53\" name=\"files[]\" multiple disabled\n",
              "        style=\"border:none\" />\n",
              "     <output id=\"result-e0483b4f-a139-4b5a-a68b-ec0c33a8cd53\">\n",
              "      Upload widget is only available when the cell has been executed in the\n",
              "      current browser session. Please rerun this cell to enable.\n",
              "      </output>\n",
              "      <script src=\"/nbextensions/google.colab/files.js\"></script> "
            ]
          },
          "metadata": {}
        },
        {
          "output_type": "stream",
          "name": "stdout",
          "text": [
            "Saving Analysis.txt to Analysis.txt\n"
          ]
        }
      ],
      "source": [
        "#26-05-22\n",
        "from google.colab import files\n",
        "uploaded = files.upload()"
      ]
    },
    {
      "cell_type": "code",
      "source": [
        "file_name = \"Analysis.txt\"\n",
        "uploaded[file_name].decode(\"utf-8\")\n",
        "\n",
        "data = uploaded[file_name].decode(\"utf-8\").split(\"\\n\")\n"
      ],
      "metadata": {
        "id": "FkHfcAx3YIRH"
      },
      "execution_count": 2,
      "outputs": []
    },
    {
      "cell_type": "code",
      "source": [
        "# data"
      ],
      "metadata": {
        "id": "7tY0XN1V4Jp0"
      },
      "execution_count": 3,
      "outputs": []
    },
    {
      "cell_type": "code",
      "source": [
        "d = []\n",
        "for i in data:\n",
        "  d.append(i.split('\\t'))\n",
        "# d"
      ],
      "metadata": {
        "id": "icUjWILNYl1q"
      },
      "execution_count": 4,
      "outputs": []
    },
    {
      "cell_type": "code",
      "source": [
        "s1 = []\n",
        "for i in range(len(d)):\n",
        "  for j in range(len(d[i])):\n",
        "    s = d[i][j].split(' ')\n",
        "    s1.append(d[i][j].split('\\t'))\n",
        "    # print(s1)\n",
        "    # print\n",
        "    # if s[0]=='Frame':\n",
        "    #   print(d[i][j])\n"
      ],
      "metadata": {
        "id": "NKpQTYcZaIhk"
      },
      "execution_count": 5,
      "outputs": []
    },
    {
      "cell_type": "code",
      "source": [
        "#27-05-22\n",
        "\n",
        "names = []\n",
        "emotions = []\n",
        "for i in range(len(s1)):\n",
        "  for j in range(len(s1[i])):\n",
        "      try:\n",
        "        if s1[i][0][0]=='n':\n",
        "          names.append(s1[i][j].split(':')[1])\n",
        "        if s1[i][0][0]=='S':\n",
        "          emotions.append(s1[i][j].split(':')[1])\n",
        "      except:\n",
        "        continue \n"
      ],
      "metadata": {
        "id": "86PnS4_5awjS"
      },
      "execution_count": 6,
      "outputs": []
    },
    {
      "cell_type": "code",
      "source": [
        "# print('Names'+' '+'Emotion')\n",
        "# for i in range(len(names)):\n",
        "\n",
        "#   print(names[i]+' '+emotions[i])"
      ],
      "metadata": {
        "id": "JpfCEufGgUHQ"
      },
      "execution_count": 7,
      "outputs": []
    },
    {
      "cell_type": "code",
      "source": [
        "import re\n",
        "for i in range(len(names)):\n",
        "   names[i] = names[i].lstrip()\n",
        "  names[i] = names[i].rstrip()"
      ],
      "metadata": {
        "id": "pn8Iem_dTzFv"
      },
      "execution_count": 8,
      "outputs": []
    },
    {
      "cell_type": "code",
      "source": [
        "unique_names = set(names)"
      ],
      "metadata": {
        "id": "M1i5qOBp0zNj"
      },
      "execution_count": 9,
      "outputs": []
    },
    {
      "cell_type": "code",
      "source": [
        "len(unique_names)"
      ],
      "metadata": {
        "id": "Q8Z7peIx08Rj",
        "colab": {
          "base_uri": "https://localhost:8080/"
        },
        "outputId": "deada55c-91a3-4c90-d004-863898ea9b78"
      },
      "execution_count": 10,
      "outputs": [
        {
          "output_type": "execute_result",
          "data": {
            "text/plain": [
              "276"
            ]
          },
          "metadata": {},
          "execution_count": 10
        }
      ]
    },
    {
      "cell_type": "code",
      "source": [
        "merge=[]\n",
        "for i in range(len(names)):\n",
        "  temp=[]\n",
        "  temp.append(names[i])\n",
        "  temp.append(emotions[i])\n",
        "  merge.append(temp)\n",
        "# merge"
      ],
      "metadata": {
        "id": "oJDvyNKU3W_z"
      },
      "execution_count": 11,
      "outputs": []
    },
    {
      "cell_type": "code",
      "source": [
        "import pandas as pd\n",
        "dict = {'name': names, 'emotion': emotions}\t\n",
        "df = pd.DataFrame(dict)\n",
        "df.to_csv('names.csv')\n",
        "df"
      ],
      "metadata": {
        "colab": {
          "base_uri": "https://localhost:8080/",
          "height": 424
        },
        "id": "CbTYQC-W-N5C",
        "outputId": "871985b9-dc08-421c-dab6-507622fa7880"
      },
      "execution_count": 12,
      "outputs": [
        {
          "output_type": "execute_result",
          "data": {
            "text/plain": [
              "                           name  emotion\n",
              "0     eset iceerl bikkyl leskle  neutral\n",
              "1                 NiteshAfahari      sad\n",
              "2                aseivris eanal      sad\n",
              "3                  HARSH SHARMA  neutral\n",
              "4                    Harsch Rai  neutral\n",
              "...                         ...      ...\n",
              "1007                 Sagar cies    happy\n",
              "1008                        rey  neutral\n",
              "1009                 Sangam ele      sad\n",
              "1010              Shivam  Singh  neutral\n",
              "1011                    i llast     fear\n",
              "\n",
              "[1012 rows x 2 columns]"
            ],
            "text/html": [
              "\n",
              "  <div id=\"df-c7199563-a7af-4ec9-ba89-7c265510b366\">\n",
              "    <div class=\"colab-df-container\">\n",
              "      <div>\n",
              "<style scoped>\n",
              "    .dataframe tbody tr th:only-of-type {\n",
              "        vertical-align: middle;\n",
              "    }\n",
              "\n",
              "    .dataframe tbody tr th {\n",
              "        vertical-align: top;\n",
              "    }\n",
              "\n",
              "    .dataframe thead th {\n",
              "        text-align: right;\n",
              "    }\n",
              "</style>\n",
              "<table border=\"1\" class=\"dataframe\">\n",
              "  <thead>\n",
              "    <tr style=\"text-align: right;\">\n",
              "      <th></th>\n",
              "      <th>name</th>\n",
              "      <th>emotion</th>\n",
              "    </tr>\n",
              "  </thead>\n",
              "  <tbody>\n",
              "    <tr>\n",
              "      <th>0</th>\n",
              "      <td>eset iceerl bikkyl leskle</td>\n",
              "      <td>neutral</td>\n",
              "    </tr>\n",
              "    <tr>\n",
              "      <th>1</th>\n",
              "      <td>NiteshAfahari</td>\n",
              "      <td>sad</td>\n",
              "    </tr>\n",
              "    <tr>\n",
              "      <th>2</th>\n",
              "      <td>aseivris eanal</td>\n",
              "      <td>sad</td>\n",
              "    </tr>\n",
              "    <tr>\n",
              "      <th>3</th>\n",
              "      <td>HARSH SHARMA</td>\n",
              "      <td>neutral</td>\n",
              "    </tr>\n",
              "    <tr>\n",
              "      <th>4</th>\n",
              "      <td>Harsch Rai</td>\n",
              "      <td>neutral</td>\n",
              "    </tr>\n",
              "    <tr>\n",
              "      <th>...</th>\n",
              "      <td>...</td>\n",
              "      <td>...</td>\n",
              "    </tr>\n",
              "    <tr>\n",
              "      <th>1007</th>\n",
              "      <td>Sagar cies</td>\n",
              "      <td>happy</td>\n",
              "    </tr>\n",
              "    <tr>\n",
              "      <th>1008</th>\n",
              "      <td>rey</td>\n",
              "      <td>neutral</td>\n",
              "    </tr>\n",
              "    <tr>\n",
              "      <th>1009</th>\n",
              "      <td>Sangam ele</td>\n",
              "      <td>sad</td>\n",
              "    </tr>\n",
              "    <tr>\n",
              "      <th>1010</th>\n",
              "      <td>Shivam  Singh</td>\n",
              "      <td>neutral</td>\n",
              "    </tr>\n",
              "    <tr>\n",
              "      <th>1011</th>\n",
              "      <td>i llast</td>\n",
              "      <td>fear</td>\n",
              "    </tr>\n",
              "  </tbody>\n",
              "</table>\n",
              "<p>1012 rows × 2 columns</p>\n",
              "</div>\n",
              "      <button class=\"colab-df-convert\" onclick=\"convertToInteractive('df-c7199563-a7af-4ec9-ba89-7c265510b366')\"\n",
              "              title=\"Convert this dataframe to an interactive table.\"\n",
              "              style=\"display:none;\">\n",
              "        \n",
              "  <svg xmlns=\"http://www.w3.org/2000/svg\" height=\"24px\"viewBox=\"0 0 24 24\"\n",
              "       width=\"24px\">\n",
              "    <path d=\"M0 0h24v24H0V0z\" fill=\"none\"/>\n",
              "    <path d=\"M18.56 5.44l.94 2.06.94-2.06 2.06-.94-2.06-.94-.94-2.06-.94 2.06-2.06.94zm-11 1L8.5 8.5l.94-2.06 2.06-.94-2.06-.94L8.5 2.5l-.94 2.06-2.06.94zm10 10l.94 2.06.94-2.06 2.06-.94-2.06-.94-.94-2.06-.94 2.06-2.06.94z\"/><path d=\"M17.41 7.96l-1.37-1.37c-.4-.4-.92-.59-1.43-.59-.52 0-1.04.2-1.43.59L10.3 9.45l-7.72 7.72c-.78.78-.78 2.05 0 2.83L4 21.41c.39.39.9.59 1.41.59.51 0 1.02-.2 1.41-.59l7.78-7.78 2.81-2.81c.8-.78.8-2.07 0-2.86zM5.41 20L4 18.59l7.72-7.72 1.47 1.35L5.41 20z\"/>\n",
              "  </svg>\n",
              "      </button>\n",
              "      \n",
              "  <style>\n",
              "    .colab-df-container {\n",
              "      display:flex;\n",
              "      flex-wrap:wrap;\n",
              "      gap: 12px;\n",
              "    }\n",
              "\n",
              "    .colab-df-convert {\n",
              "      background-color: #E8F0FE;\n",
              "      border: none;\n",
              "      border-radius: 50%;\n",
              "      cursor: pointer;\n",
              "      display: none;\n",
              "      fill: #1967D2;\n",
              "      height: 32px;\n",
              "      padding: 0 0 0 0;\n",
              "      width: 32px;\n",
              "    }\n",
              "\n",
              "    .colab-df-convert:hover {\n",
              "      background-color: #E2EBFA;\n",
              "      box-shadow: 0px 1px 2px rgba(60, 64, 67, 0.3), 0px 1px 3px 1px rgba(60, 64, 67, 0.15);\n",
              "      fill: #174EA6;\n",
              "    }\n",
              "\n",
              "    [theme=dark] .colab-df-convert {\n",
              "      background-color: #3B4455;\n",
              "      fill: #D2E3FC;\n",
              "    }\n",
              "\n",
              "    [theme=dark] .colab-df-convert:hover {\n",
              "      background-color: #434B5C;\n",
              "      box-shadow: 0px 1px 3px 1px rgba(0, 0, 0, 0.15);\n",
              "      filter: drop-shadow(0px 1px 2px rgba(0, 0, 0, 0.3));\n",
              "      fill: #FFFFFF;\n",
              "    }\n",
              "  </style>\n",
              "\n",
              "      <script>\n",
              "        const buttonEl =\n",
              "          document.querySelector('#df-c7199563-a7af-4ec9-ba89-7c265510b366 button.colab-df-convert');\n",
              "        buttonEl.style.display =\n",
              "          google.colab.kernel.accessAllowed ? 'block' : 'none';\n",
              "\n",
              "        async function convertToInteractive(key) {\n",
              "          const element = document.querySelector('#df-c7199563-a7af-4ec9-ba89-7c265510b366');\n",
              "          const dataTable =\n",
              "            await google.colab.kernel.invokeFunction('convertToInteractive',\n",
              "                                                     [key], {});\n",
              "          if (!dataTable) return;\n",
              "\n",
              "          const docLinkHtml = 'Like what you see? Visit the ' +\n",
              "            '<a target=\"_blank\" href=https://colab.research.google.com/notebooks/data_table.ipynb>data table notebook</a>'\n",
              "            + ' to learn more about interactive tables.';\n",
              "          element.innerHTML = '';\n",
              "          dataTable['output_type'] = 'display_data';\n",
              "          await google.colab.output.renderOutput(dataTable, element);\n",
              "          const docLink = document.createElement('div');\n",
              "          docLink.innerHTML = docLinkHtml;\n",
              "          element.appendChild(docLink);\n",
              "        }\n",
              "      </script>\n",
              "    </div>\n",
              "  </div>\n",
              "  "
            ]
          },
          "metadata": {},
          "execution_count": 12
        }
      ]
    },
    {
      "cell_type": "code",
      "source": [
        "from google.colab import files\n",
        "files.download('names.csv') "
      ],
      "metadata": {
        "colab": {
          "base_uri": "https://localhost:8080/",
          "height": 17
        },
        "id": "z-hqEo8oAKCT",
        "outputId": "5aa3ab90-09ab-47eb-e208-5a4ec93286b5"
      },
      "execution_count": 13,
      "outputs": [
        {
          "output_type": "display_data",
          "data": {
            "text/plain": [
              "<IPython.core.display.Javascript object>"
            ],
            "application/javascript": [
              "\n",
              "    async function download(id, filename, size) {\n",
              "      if (!google.colab.kernel.accessAllowed) {\n",
              "        return;\n",
              "      }\n",
              "      const div = document.createElement('div');\n",
              "      const label = document.createElement('label');\n",
              "      label.textContent = `Downloading \"${filename}\": `;\n",
              "      div.appendChild(label);\n",
              "      const progress = document.createElement('progress');\n",
              "      progress.max = size;\n",
              "      div.appendChild(progress);\n",
              "      document.body.appendChild(div);\n",
              "\n",
              "      const buffers = [];\n",
              "      let downloaded = 0;\n",
              "\n",
              "      const channel = await google.colab.kernel.comms.open(id);\n",
              "      // Send a message to notify the kernel that we're ready.\n",
              "      channel.send({})\n",
              "\n",
              "      for await (const message of channel.messages) {\n",
              "        // Send a message to notify the kernel that we're ready.\n",
              "        channel.send({})\n",
              "        if (message.buffers) {\n",
              "          for (const buffer of message.buffers) {\n",
              "            buffers.push(buffer);\n",
              "            downloaded += buffer.byteLength;\n",
              "            progress.value = downloaded;\n",
              "          }\n",
              "        }\n",
              "      }\n",
              "      const blob = new Blob(buffers, {type: 'application/binary'});\n",
              "      const a = document.createElement('a');\n",
              "      a.href = window.URL.createObjectURL(blob);\n",
              "      a.download = filename;\n",
              "      div.appendChild(a);\n",
              "      a.click();\n",
              "      div.remove();\n",
              "    }\n",
              "  "
            ]
          },
          "metadata": {}
        },
        {
          "output_type": "display_data",
          "data": {
            "text/plain": [
              "<IPython.core.display.Javascript object>"
            ],
            "application/javascript": [
              "download(\"download_08930f56-fccd-45a8-a258-d047b4affb97\", \"names.csv\", 25930)"
            ]
          },
          "metadata": {}
        }
      ]
    },
    {
      "cell_type": "code",
      "source": [
        "unique_emotions = set(emotions)"
      ],
      "metadata": {
        "id": "NlwixcSjAySj"
      },
      "execution_count": 14,
      "outputs": []
    },
    {
      "cell_type": "code",
      "source": [
        "unique_emotions  = list(unique_emotions)\n",
        "unique_emotions\n",
        "unique_names  = list(unique_names)\n"
      ],
      "metadata": {
        "id": "c-M0wgOrCqlk"
      },
      "execution_count": 15,
      "outputs": []
    },
    {
      "cell_type": "code",
      "source": [
        "count_emotion = []\n",
        "for i in range(len(unique_emotions)):\n",
        "  # print(unique_emotions[i])\n",
        "  count=0\n",
        "  for j in range(len(emotions)):\n",
        "    if unique_emotions[i]==emotions[j]:\n",
        "      count=count+1\n",
        "  count_emotion.append(count)"
      ],
      "metadata": {
        "id": "a3zxFKRJG8Jz"
      },
      "execution_count": 16,
      "outputs": []
    },
    {
      "cell_type": "code",
      "source": [
        "count_emotion"
      ],
      "metadata": {
        "colab": {
          "base_uri": "https://localhost:8080/"
        },
        "id": "mfBQ6-KaIYaT",
        "outputId": "f94436ea-061c-4b6b-95f3-06eb78202d55"
      },
      "execution_count": 17,
      "outputs": [
        {
          "output_type": "execute_result",
          "data": {
            "text/plain": [
              "[4, 35, 637, 106, 46, 184]"
            ]
          },
          "metadata": {},
          "execution_count": 17
        }
      ]
    },
    {
      "cell_type": "code",
      "source": [
        "dict = {'emotion': unique_emotions,'count':count_emotion}\t\n",
        "dfc = pd.DataFrame(dict)\n",
        "dfc.to_csv('count.csv')\n",
        "dfc"
      ],
      "metadata": {
        "colab": {
          "base_uri": "https://localhost:8080/",
          "height": 238
        },
        "id": "cZsCOVcLIxr0",
        "outputId": "e42df76b-ca2b-42fd-a105-8aceb6e4cd1a"
      },
      "execution_count": 18,
      "outputs": [
        {
          "output_type": "execute_result",
          "data": {
            "text/plain": [
              "    emotion  count\n",
              "0  surprise      4\n",
              "1      fear     35\n",
              "2   neutral    637\n",
              "3       sad    106\n",
              "4     angry     46\n",
              "5     happy    184"
            ],
            "text/html": [
              "\n",
              "  <div id=\"df-0321476f-f29e-4685-bd90-a45cee1c6328\">\n",
              "    <div class=\"colab-df-container\">\n",
              "      <div>\n",
              "<style scoped>\n",
              "    .dataframe tbody tr th:only-of-type {\n",
              "        vertical-align: middle;\n",
              "    }\n",
              "\n",
              "    .dataframe tbody tr th {\n",
              "        vertical-align: top;\n",
              "    }\n",
              "\n",
              "    .dataframe thead th {\n",
              "        text-align: right;\n",
              "    }\n",
              "</style>\n",
              "<table border=\"1\" class=\"dataframe\">\n",
              "  <thead>\n",
              "    <tr style=\"text-align: right;\">\n",
              "      <th></th>\n",
              "      <th>emotion</th>\n",
              "      <th>count</th>\n",
              "    </tr>\n",
              "  </thead>\n",
              "  <tbody>\n",
              "    <tr>\n",
              "      <th>0</th>\n",
              "      <td>surprise</td>\n",
              "      <td>4</td>\n",
              "    </tr>\n",
              "    <tr>\n",
              "      <th>1</th>\n",
              "      <td>fear</td>\n",
              "      <td>35</td>\n",
              "    </tr>\n",
              "    <tr>\n",
              "      <th>2</th>\n",
              "      <td>neutral</td>\n",
              "      <td>637</td>\n",
              "    </tr>\n",
              "    <tr>\n",
              "      <th>3</th>\n",
              "      <td>sad</td>\n",
              "      <td>106</td>\n",
              "    </tr>\n",
              "    <tr>\n",
              "      <th>4</th>\n",
              "      <td>angry</td>\n",
              "      <td>46</td>\n",
              "    </tr>\n",
              "    <tr>\n",
              "      <th>5</th>\n",
              "      <td>happy</td>\n",
              "      <td>184</td>\n",
              "    </tr>\n",
              "  </tbody>\n",
              "</table>\n",
              "</div>\n",
              "      <button class=\"colab-df-convert\" onclick=\"convertToInteractive('df-0321476f-f29e-4685-bd90-a45cee1c6328')\"\n",
              "              title=\"Convert this dataframe to an interactive table.\"\n",
              "              style=\"display:none;\">\n",
              "        \n",
              "  <svg xmlns=\"http://www.w3.org/2000/svg\" height=\"24px\"viewBox=\"0 0 24 24\"\n",
              "       width=\"24px\">\n",
              "    <path d=\"M0 0h24v24H0V0z\" fill=\"none\"/>\n",
              "    <path d=\"M18.56 5.44l.94 2.06.94-2.06 2.06-.94-2.06-.94-.94-2.06-.94 2.06-2.06.94zm-11 1L8.5 8.5l.94-2.06 2.06-.94-2.06-.94L8.5 2.5l-.94 2.06-2.06.94zm10 10l.94 2.06.94-2.06 2.06-.94-2.06-.94-.94-2.06-.94 2.06-2.06.94z\"/><path d=\"M17.41 7.96l-1.37-1.37c-.4-.4-.92-.59-1.43-.59-.52 0-1.04.2-1.43.59L10.3 9.45l-7.72 7.72c-.78.78-.78 2.05 0 2.83L4 21.41c.39.39.9.59 1.41.59.51 0 1.02-.2 1.41-.59l7.78-7.78 2.81-2.81c.8-.78.8-2.07 0-2.86zM5.41 20L4 18.59l7.72-7.72 1.47 1.35L5.41 20z\"/>\n",
              "  </svg>\n",
              "      </button>\n",
              "      \n",
              "  <style>\n",
              "    .colab-df-container {\n",
              "      display:flex;\n",
              "      flex-wrap:wrap;\n",
              "      gap: 12px;\n",
              "    }\n",
              "\n",
              "    .colab-df-convert {\n",
              "      background-color: #E8F0FE;\n",
              "      border: none;\n",
              "      border-radius: 50%;\n",
              "      cursor: pointer;\n",
              "      display: none;\n",
              "      fill: #1967D2;\n",
              "      height: 32px;\n",
              "      padding: 0 0 0 0;\n",
              "      width: 32px;\n",
              "    }\n",
              "\n",
              "    .colab-df-convert:hover {\n",
              "      background-color: #E2EBFA;\n",
              "      box-shadow: 0px 1px 2px rgba(60, 64, 67, 0.3), 0px 1px 3px 1px rgba(60, 64, 67, 0.15);\n",
              "      fill: #174EA6;\n",
              "    }\n",
              "\n",
              "    [theme=dark] .colab-df-convert {\n",
              "      background-color: #3B4455;\n",
              "      fill: #D2E3FC;\n",
              "    }\n",
              "\n",
              "    [theme=dark] .colab-df-convert:hover {\n",
              "      background-color: #434B5C;\n",
              "      box-shadow: 0px 1px 3px 1px rgba(0, 0, 0, 0.15);\n",
              "      filter: drop-shadow(0px 1px 2px rgba(0, 0, 0, 0.3));\n",
              "      fill: #FFFFFF;\n",
              "    }\n",
              "  </style>\n",
              "\n",
              "      <script>\n",
              "        const buttonEl =\n",
              "          document.querySelector('#df-0321476f-f29e-4685-bd90-a45cee1c6328 button.colab-df-convert');\n",
              "        buttonEl.style.display =\n",
              "          google.colab.kernel.accessAllowed ? 'block' : 'none';\n",
              "\n",
              "        async function convertToInteractive(key) {\n",
              "          const element = document.querySelector('#df-0321476f-f29e-4685-bd90-a45cee1c6328');\n",
              "          const dataTable =\n",
              "            await google.colab.kernel.invokeFunction('convertToInteractive',\n",
              "                                                     [key], {});\n",
              "          if (!dataTable) return;\n",
              "\n",
              "          const docLinkHtml = 'Like what you see? Visit the ' +\n",
              "            '<a target=\"_blank\" href=https://colab.research.google.com/notebooks/data_table.ipynb>data table notebook</a>'\n",
              "            + ' to learn more about interactive tables.';\n",
              "          element.innerHTML = '';\n",
              "          dataTable['output_type'] = 'display_data';\n",
              "          await google.colab.output.renderOutput(dataTable, element);\n",
              "          const docLink = document.createElement('div');\n",
              "          docLink.innerHTML = docLinkHtml;\n",
              "          element.appendChild(docLink);\n",
              "        }\n",
              "      </script>\n",
              "    </div>\n",
              "  </div>\n",
              "  "
            ]
          },
          "metadata": {},
          "execution_count": 18
        }
      ]
    },
    {
      "cell_type": "code",
      "source": [
        "import plotly.express as px\n",
        "\n",
        "df = px.data.tips()\n",
        "fig = px.pie(dfc, values='count', names='emotion')\n",
        "fig.show()"
      ],
      "metadata": {
        "colab": {
          "base_uri": "https://localhost:8080/",
          "height": 542
        },
        "id": "dv1dAoJWJBtz",
        "outputId": "46ab4d15-1ef3-45d1-e2de-dd48febf6942"
      },
      "execution_count": 19,
      "outputs": [
        {
          "output_type": "display_data",
          "data": {
            "text/html": [
              "<html>\n",
              "<head><meta charset=\"utf-8\" /></head>\n",
              "<body>\n",
              "    <div>            <script src=\"https://cdnjs.cloudflare.com/ajax/libs/mathjax/2.7.5/MathJax.js?config=TeX-AMS-MML_SVG\"></script><script type=\"text/javascript\">if (window.MathJax) {MathJax.Hub.Config({SVG: {font: \"STIX-Web\"}});}</script>                <script type=\"text/javascript\">window.PlotlyConfig = {MathJaxConfig: 'local'};</script>\n",
              "        <script src=\"https://cdn.plot.ly/plotly-2.8.3.min.js\"></script>                <div id=\"883af09c-7daa-4f53-abb9-f8eea809ac29\" class=\"plotly-graph-div\" style=\"height:525px; width:100%;\"></div>            <script type=\"text/javascript\">                                    window.PLOTLYENV=window.PLOTLYENV || {};                                    if (document.getElementById(\"883af09c-7daa-4f53-abb9-f8eea809ac29\")) {                    Plotly.newPlot(                        \"883af09c-7daa-4f53-abb9-f8eea809ac29\",                        [{\"domain\":{\"x\":[0.0,1.0],\"y\":[0.0,1.0]},\"hovertemplate\":\"emotion=%{label}<br>count=%{value}<extra></extra>\",\"labels\":[\"surprise\",\"fear\",\"neutral\",\"sad\",\"angry\",\"happy\"],\"legendgroup\":\"\",\"name\":\"\",\"showlegend\":true,\"values\":[4,35,637,106,46,184],\"type\":\"pie\"}],                        {\"template\":{\"data\":{\"bar\":[{\"error_x\":{\"color\":\"#2a3f5f\"},\"error_y\":{\"color\":\"#2a3f5f\"},\"marker\":{\"line\":{\"color\":\"#E5ECF6\",\"width\":0.5},\"pattern\":{\"fillmode\":\"overlay\",\"size\":10,\"solidity\":0.2}},\"type\":\"bar\"}],\"barpolar\":[{\"marker\":{\"line\":{\"color\":\"#E5ECF6\",\"width\":0.5},\"pattern\":{\"fillmode\":\"overlay\",\"size\":10,\"solidity\":0.2}},\"type\":\"barpolar\"}],\"carpet\":[{\"aaxis\":{\"endlinecolor\":\"#2a3f5f\",\"gridcolor\":\"white\",\"linecolor\":\"white\",\"minorgridcolor\":\"white\",\"startlinecolor\":\"#2a3f5f\"},\"baxis\":{\"endlinecolor\":\"#2a3f5f\",\"gridcolor\":\"white\",\"linecolor\":\"white\",\"minorgridcolor\":\"white\",\"startlinecolor\":\"#2a3f5f\"},\"type\":\"carpet\"}],\"choropleth\":[{\"colorbar\":{\"outlinewidth\":0,\"ticks\":\"\"},\"type\":\"choropleth\"}],\"contour\":[{\"colorbar\":{\"outlinewidth\":0,\"ticks\":\"\"},\"colorscale\":[[0.0,\"#0d0887\"],[0.1111111111111111,\"#46039f\"],[0.2222222222222222,\"#7201a8\"],[0.3333333333333333,\"#9c179e\"],[0.4444444444444444,\"#bd3786\"],[0.5555555555555556,\"#d8576b\"],[0.6666666666666666,\"#ed7953\"],[0.7777777777777778,\"#fb9f3a\"],[0.8888888888888888,\"#fdca26\"],[1.0,\"#f0f921\"]],\"type\":\"contour\"}],\"contourcarpet\":[{\"colorbar\":{\"outlinewidth\":0,\"ticks\":\"\"},\"type\":\"contourcarpet\"}],\"heatmap\":[{\"colorbar\":{\"outlinewidth\":0,\"ticks\":\"\"},\"colorscale\":[[0.0,\"#0d0887\"],[0.1111111111111111,\"#46039f\"],[0.2222222222222222,\"#7201a8\"],[0.3333333333333333,\"#9c179e\"],[0.4444444444444444,\"#bd3786\"],[0.5555555555555556,\"#d8576b\"],[0.6666666666666666,\"#ed7953\"],[0.7777777777777778,\"#fb9f3a\"],[0.8888888888888888,\"#fdca26\"],[1.0,\"#f0f921\"]],\"type\":\"heatmap\"}],\"heatmapgl\":[{\"colorbar\":{\"outlinewidth\":0,\"ticks\":\"\"},\"colorscale\":[[0.0,\"#0d0887\"],[0.1111111111111111,\"#46039f\"],[0.2222222222222222,\"#7201a8\"],[0.3333333333333333,\"#9c179e\"],[0.4444444444444444,\"#bd3786\"],[0.5555555555555556,\"#d8576b\"],[0.6666666666666666,\"#ed7953\"],[0.7777777777777778,\"#fb9f3a\"],[0.8888888888888888,\"#fdca26\"],[1.0,\"#f0f921\"]],\"type\":\"heatmapgl\"}],\"histogram\":[{\"marker\":{\"pattern\":{\"fillmode\":\"overlay\",\"size\":10,\"solidity\":0.2}},\"type\":\"histogram\"}],\"histogram2d\":[{\"colorbar\":{\"outlinewidth\":0,\"ticks\":\"\"},\"colorscale\":[[0.0,\"#0d0887\"],[0.1111111111111111,\"#46039f\"],[0.2222222222222222,\"#7201a8\"],[0.3333333333333333,\"#9c179e\"],[0.4444444444444444,\"#bd3786\"],[0.5555555555555556,\"#d8576b\"],[0.6666666666666666,\"#ed7953\"],[0.7777777777777778,\"#fb9f3a\"],[0.8888888888888888,\"#fdca26\"],[1.0,\"#f0f921\"]],\"type\":\"histogram2d\"}],\"histogram2dcontour\":[{\"colorbar\":{\"outlinewidth\":0,\"ticks\":\"\"},\"colorscale\":[[0.0,\"#0d0887\"],[0.1111111111111111,\"#46039f\"],[0.2222222222222222,\"#7201a8\"],[0.3333333333333333,\"#9c179e\"],[0.4444444444444444,\"#bd3786\"],[0.5555555555555556,\"#d8576b\"],[0.6666666666666666,\"#ed7953\"],[0.7777777777777778,\"#fb9f3a\"],[0.8888888888888888,\"#fdca26\"],[1.0,\"#f0f921\"]],\"type\":\"histogram2dcontour\"}],\"mesh3d\":[{\"colorbar\":{\"outlinewidth\":0,\"ticks\":\"\"},\"type\":\"mesh3d\"}],\"parcoords\":[{\"line\":{\"colorbar\":{\"outlinewidth\":0,\"ticks\":\"\"}},\"type\":\"parcoords\"}],\"pie\":[{\"automargin\":true,\"type\":\"pie\"}],\"scatter\":[{\"marker\":{\"colorbar\":{\"outlinewidth\":0,\"ticks\":\"\"}},\"type\":\"scatter\"}],\"scatter3d\":[{\"line\":{\"colorbar\":{\"outlinewidth\":0,\"ticks\":\"\"}},\"marker\":{\"colorbar\":{\"outlinewidth\":0,\"ticks\":\"\"}},\"type\":\"scatter3d\"}],\"scattercarpet\":[{\"marker\":{\"colorbar\":{\"outlinewidth\":0,\"ticks\":\"\"}},\"type\":\"scattercarpet\"}],\"scattergeo\":[{\"marker\":{\"colorbar\":{\"outlinewidth\":0,\"ticks\":\"\"}},\"type\":\"scattergeo\"}],\"scattergl\":[{\"marker\":{\"colorbar\":{\"outlinewidth\":0,\"ticks\":\"\"}},\"type\":\"scattergl\"}],\"scattermapbox\":[{\"marker\":{\"colorbar\":{\"outlinewidth\":0,\"ticks\":\"\"}},\"type\":\"scattermapbox\"}],\"scatterpolar\":[{\"marker\":{\"colorbar\":{\"outlinewidth\":0,\"ticks\":\"\"}},\"type\":\"scatterpolar\"}],\"scatterpolargl\":[{\"marker\":{\"colorbar\":{\"outlinewidth\":0,\"ticks\":\"\"}},\"type\":\"scatterpolargl\"}],\"scatterternary\":[{\"marker\":{\"colorbar\":{\"outlinewidth\":0,\"ticks\":\"\"}},\"type\":\"scatterternary\"}],\"surface\":[{\"colorbar\":{\"outlinewidth\":0,\"ticks\":\"\"},\"colorscale\":[[0.0,\"#0d0887\"],[0.1111111111111111,\"#46039f\"],[0.2222222222222222,\"#7201a8\"],[0.3333333333333333,\"#9c179e\"],[0.4444444444444444,\"#bd3786\"],[0.5555555555555556,\"#d8576b\"],[0.6666666666666666,\"#ed7953\"],[0.7777777777777778,\"#fb9f3a\"],[0.8888888888888888,\"#fdca26\"],[1.0,\"#f0f921\"]],\"type\":\"surface\"}],\"table\":[{\"cells\":{\"fill\":{\"color\":\"#EBF0F8\"},\"line\":{\"color\":\"white\"}},\"header\":{\"fill\":{\"color\":\"#C8D4E3\"},\"line\":{\"color\":\"white\"}},\"type\":\"table\"}]},\"layout\":{\"annotationdefaults\":{\"arrowcolor\":\"#2a3f5f\",\"arrowhead\":0,\"arrowwidth\":1},\"autotypenumbers\":\"strict\",\"coloraxis\":{\"colorbar\":{\"outlinewidth\":0,\"ticks\":\"\"}},\"colorscale\":{\"diverging\":[[0,\"#8e0152\"],[0.1,\"#c51b7d\"],[0.2,\"#de77ae\"],[0.3,\"#f1b6da\"],[0.4,\"#fde0ef\"],[0.5,\"#f7f7f7\"],[0.6,\"#e6f5d0\"],[0.7,\"#b8e186\"],[0.8,\"#7fbc41\"],[0.9,\"#4d9221\"],[1,\"#276419\"]],\"sequential\":[[0.0,\"#0d0887\"],[0.1111111111111111,\"#46039f\"],[0.2222222222222222,\"#7201a8\"],[0.3333333333333333,\"#9c179e\"],[0.4444444444444444,\"#bd3786\"],[0.5555555555555556,\"#d8576b\"],[0.6666666666666666,\"#ed7953\"],[0.7777777777777778,\"#fb9f3a\"],[0.8888888888888888,\"#fdca26\"],[1.0,\"#f0f921\"]],\"sequentialminus\":[[0.0,\"#0d0887\"],[0.1111111111111111,\"#46039f\"],[0.2222222222222222,\"#7201a8\"],[0.3333333333333333,\"#9c179e\"],[0.4444444444444444,\"#bd3786\"],[0.5555555555555556,\"#d8576b\"],[0.6666666666666666,\"#ed7953\"],[0.7777777777777778,\"#fb9f3a\"],[0.8888888888888888,\"#fdca26\"],[1.0,\"#f0f921\"]]},\"colorway\":[\"#636efa\",\"#EF553B\",\"#00cc96\",\"#ab63fa\",\"#FFA15A\",\"#19d3f3\",\"#FF6692\",\"#B6E880\",\"#FF97FF\",\"#FECB52\"],\"font\":{\"color\":\"#2a3f5f\"},\"geo\":{\"bgcolor\":\"white\",\"lakecolor\":\"white\",\"landcolor\":\"#E5ECF6\",\"showlakes\":true,\"showland\":true,\"subunitcolor\":\"white\"},\"hoverlabel\":{\"align\":\"left\"},\"hovermode\":\"closest\",\"mapbox\":{\"style\":\"light\"},\"paper_bgcolor\":\"white\",\"plot_bgcolor\":\"#E5ECF6\",\"polar\":{\"angularaxis\":{\"gridcolor\":\"white\",\"linecolor\":\"white\",\"ticks\":\"\"},\"bgcolor\":\"#E5ECF6\",\"radialaxis\":{\"gridcolor\":\"white\",\"linecolor\":\"white\",\"ticks\":\"\"}},\"scene\":{\"xaxis\":{\"backgroundcolor\":\"#E5ECF6\",\"gridcolor\":\"white\",\"gridwidth\":2,\"linecolor\":\"white\",\"showbackground\":true,\"ticks\":\"\",\"zerolinecolor\":\"white\"},\"yaxis\":{\"backgroundcolor\":\"#E5ECF6\",\"gridcolor\":\"white\",\"gridwidth\":2,\"linecolor\":\"white\",\"showbackground\":true,\"ticks\":\"\",\"zerolinecolor\":\"white\"},\"zaxis\":{\"backgroundcolor\":\"#E5ECF6\",\"gridcolor\":\"white\",\"gridwidth\":2,\"linecolor\":\"white\",\"showbackground\":true,\"ticks\":\"\",\"zerolinecolor\":\"white\"}},\"shapedefaults\":{\"line\":{\"color\":\"#2a3f5f\"}},\"ternary\":{\"aaxis\":{\"gridcolor\":\"white\",\"linecolor\":\"white\",\"ticks\":\"\"},\"baxis\":{\"gridcolor\":\"white\",\"linecolor\":\"white\",\"ticks\":\"\"},\"bgcolor\":\"#E5ECF6\",\"caxis\":{\"gridcolor\":\"white\",\"linecolor\":\"white\",\"ticks\":\"\"}},\"title\":{\"x\":0.05},\"xaxis\":{\"automargin\":true,\"gridcolor\":\"white\",\"linecolor\":\"white\",\"ticks\":\"\",\"title\":{\"standoff\":15},\"zerolinecolor\":\"white\",\"zerolinewidth\":2},\"yaxis\":{\"automargin\":true,\"gridcolor\":\"white\",\"linecolor\":\"white\",\"ticks\":\"\",\"title\":{\"standoff\":15},\"zerolinecolor\":\"white\",\"zerolinewidth\":2}}},\"legend\":{\"tracegroupgap\":0},\"margin\":{\"t\":60}},                        {\"responsive\": true}                    ).then(function(){\n",
              "                            \n",
              "var gd = document.getElementById('883af09c-7daa-4f53-abb9-f8eea809ac29');\n",
              "var x = new MutationObserver(function (mutations, observer) {{\n",
              "        var display = window.getComputedStyle(gd).display;\n",
              "        if (!display || display === 'none') {{\n",
              "            console.log([gd, 'removed!']);\n",
              "            Plotly.purge(gd);\n",
              "            observer.disconnect();\n",
              "        }}\n",
              "}});\n",
              "\n",
              "// Listen for the removal of the full notebook cells\n",
              "var notebookContainer = gd.closest('#notebook-container');\n",
              "if (notebookContainer) {{\n",
              "    x.observe(notebookContainer, {childList: true});\n",
              "}}\n",
              "\n",
              "// Listen for the clearing of the current output cell\n",
              "var outputEl = gd.closest('.output');\n",
              "if (outputEl) {{\n",
              "    x.observe(outputEl, {childList: true});\n",
              "}}\n",
              "\n",
              "                        })                };                            </script>        </div>\n",
              "</body>\n",
              "</html>"
            ]
          },
          "metadata": {}
        }
      ]
    },
    {
      "cell_type": "code",
      "source": [
        "# data[0:78] #1-34"
      ],
      "metadata": {
        "id": "nlGqdAr3JyN0"
      },
      "execution_count": 20,
      "outputs": []
    },
    {
      "cell_type": "code",
      "source": [
        "name = input(\"Enter the name\")\n"
      ],
      "metadata": {
        "colab": {
          "base_uri": "https://localhost:8080/"
        },
        "id": "AbMjEobVVkC8",
        "outputId": "1e87e017-1232-4b0a-f9ab-b8fe77f5701b"
      },
      "execution_count": 21,
      "outputs": [
        {
          "name": "stdout",
          "output_type": "stream",
          "text": [
            "Enter the nameRia\n"
          ]
        }
      ]
    },
    {
      "cell_type": "code",
      "source": [
        "# for i in range(len)"
      ],
      "metadata": {
        "id": "qKa85jSdXhHa"
      },
      "execution_count": 22,
      "outputs": []
    },
    {
      "cell_type": "code",
      "source": [
        "count_names = []\n",
        "for i in range(len(unique_names)):\n",
        "  # print(unique_emotions[i])\n",
        "  count=0\n",
        "  for j in range(len(names)):\n",
        "    if unique_names[i]==names[j]:\n",
        "      count=count+1\n",
        "  count_names.append(count)"
      ],
      "metadata": {
        "id": "yC0udbRDi9qL"
      },
      "execution_count": 23,
      "outputs": []
    },
    {
      "cell_type": "code",
      "source": [
        "dict = {'name': unique_names,'count':count_names}\t\n",
        "dfn = pd.DataFrame(dict)\n",
        "dfn.to_csv('count.csv')\n",
        "dfn"
      ],
      "metadata": {
        "colab": {
          "base_uri": "https://localhost:8080/",
          "height": 424
        },
        "id": "btCV2IjrjRo5",
        "outputId": "030cfd4a-dc47-47b0-c7a1-325a909230d4"
      },
      "execution_count": 24,
      "outputs": [
        {
          "output_type": "execute_result",
          "data": {
            "text/plain": [
              "                             name  count\n",
              "0                                     90\n",
              "1                     Ruchi Panse     18\n",
              "2                  Gupta Sonu Sey      1\n",
              "3        Be tay llesllaeseriaerch      1\n",
              "4    jelaisell elated Mehta Mehta      3\n",
              "..                            ...    ...\n",
              "271               late lal o lata      1\n",
              "272                   eslia Kumar      1\n",
              "273                     Harsh Rai     23\n",
              "274                   Nandani Shz      3\n",
              "275           Gite lelisitia riva      1\n",
              "\n",
              "[276 rows x 2 columns]"
            ],
            "text/html": [
              "\n",
              "  <div id=\"df-43a098df-07af-4aae-9b07-3544c942c5a7\">\n",
              "    <div class=\"colab-df-container\">\n",
              "      <div>\n",
              "<style scoped>\n",
              "    .dataframe tbody tr th:only-of-type {\n",
              "        vertical-align: middle;\n",
              "    }\n",
              "\n",
              "    .dataframe tbody tr th {\n",
              "        vertical-align: top;\n",
              "    }\n",
              "\n",
              "    .dataframe thead th {\n",
              "        text-align: right;\n",
              "    }\n",
              "</style>\n",
              "<table border=\"1\" class=\"dataframe\">\n",
              "  <thead>\n",
              "    <tr style=\"text-align: right;\">\n",
              "      <th></th>\n",
              "      <th>name</th>\n",
              "      <th>count</th>\n",
              "    </tr>\n",
              "  </thead>\n",
              "  <tbody>\n",
              "    <tr>\n",
              "      <th>0</th>\n",
              "      <td></td>\n",
              "      <td>90</td>\n",
              "    </tr>\n",
              "    <tr>\n",
              "      <th>1</th>\n",
              "      <td>Ruchi Panse</td>\n",
              "      <td>18</td>\n",
              "    </tr>\n",
              "    <tr>\n",
              "      <th>2</th>\n",
              "      <td>Gupta Sonu Sey</td>\n",
              "      <td>1</td>\n",
              "    </tr>\n",
              "    <tr>\n",
              "      <th>3</th>\n",
              "      <td>Be tay llesllaeseriaerch</td>\n",
              "      <td>1</td>\n",
              "    </tr>\n",
              "    <tr>\n",
              "      <th>4</th>\n",
              "      <td>jelaisell elated Mehta Mehta</td>\n",
              "      <td>3</td>\n",
              "    </tr>\n",
              "    <tr>\n",
              "      <th>...</th>\n",
              "      <td>...</td>\n",
              "      <td>...</td>\n",
              "    </tr>\n",
              "    <tr>\n",
              "      <th>271</th>\n",
              "      <td>late lal o lata</td>\n",
              "      <td>1</td>\n",
              "    </tr>\n",
              "    <tr>\n",
              "      <th>272</th>\n",
              "      <td>eslia Kumar</td>\n",
              "      <td>1</td>\n",
              "    </tr>\n",
              "    <tr>\n",
              "      <th>273</th>\n",
              "      <td>Harsh Rai</td>\n",
              "      <td>23</td>\n",
              "    </tr>\n",
              "    <tr>\n",
              "      <th>274</th>\n",
              "      <td>Nandani Shz</td>\n",
              "      <td>3</td>\n",
              "    </tr>\n",
              "    <tr>\n",
              "      <th>275</th>\n",
              "      <td>Gite lelisitia riva</td>\n",
              "      <td>1</td>\n",
              "    </tr>\n",
              "  </tbody>\n",
              "</table>\n",
              "<p>276 rows × 2 columns</p>\n",
              "</div>\n",
              "      <button class=\"colab-df-convert\" onclick=\"convertToInteractive('df-43a098df-07af-4aae-9b07-3544c942c5a7')\"\n",
              "              title=\"Convert this dataframe to an interactive table.\"\n",
              "              style=\"display:none;\">\n",
              "        \n",
              "  <svg xmlns=\"http://www.w3.org/2000/svg\" height=\"24px\"viewBox=\"0 0 24 24\"\n",
              "       width=\"24px\">\n",
              "    <path d=\"M0 0h24v24H0V0z\" fill=\"none\"/>\n",
              "    <path d=\"M18.56 5.44l.94 2.06.94-2.06 2.06-.94-2.06-.94-.94-2.06-.94 2.06-2.06.94zm-11 1L8.5 8.5l.94-2.06 2.06-.94-2.06-.94L8.5 2.5l-.94 2.06-2.06.94zm10 10l.94 2.06.94-2.06 2.06-.94-2.06-.94-.94-2.06-.94 2.06-2.06.94z\"/><path d=\"M17.41 7.96l-1.37-1.37c-.4-.4-.92-.59-1.43-.59-.52 0-1.04.2-1.43.59L10.3 9.45l-7.72 7.72c-.78.78-.78 2.05 0 2.83L4 21.41c.39.39.9.59 1.41.59.51 0 1.02-.2 1.41-.59l7.78-7.78 2.81-2.81c.8-.78.8-2.07 0-2.86zM5.41 20L4 18.59l7.72-7.72 1.47 1.35L5.41 20z\"/>\n",
              "  </svg>\n",
              "      </button>\n",
              "      \n",
              "  <style>\n",
              "    .colab-df-container {\n",
              "      display:flex;\n",
              "      flex-wrap:wrap;\n",
              "      gap: 12px;\n",
              "    }\n",
              "\n",
              "    .colab-df-convert {\n",
              "      background-color: #E8F0FE;\n",
              "      border: none;\n",
              "      border-radius: 50%;\n",
              "      cursor: pointer;\n",
              "      display: none;\n",
              "      fill: #1967D2;\n",
              "      height: 32px;\n",
              "      padding: 0 0 0 0;\n",
              "      width: 32px;\n",
              "    }\n",
              "\n",
              "    .colab-df-convert:hover {\n",
              "      background-color: #E2EBFA;\n",
              "      box-shadow: 0px 1px 2px rgba(60, 64, 67, 0.3), 0px 1px 3px 1px rgba(60, 64, 67, 0.15);\n",
              "      fill: #174EA6;\n",
              "    }\n",
              "\n",
              "    [theme=dark] .colab-df-convert {\n",
              "      background-color: #3B4455;\n",
              "      fill: #D2E3FC;\n",
              "    }\n",
              "\n",
              "    [theme=dark] .colab-df-convert:hover {\n",
              "      background-color: #434B5C;\n",
              "      box-shadow: 0px 1px 3px 1px rgba(0, 0, 0, 0.15);\n",
              "      filter: drop-shadow(0px 1px 2px rgba(0, 0, 0, 0.3));\n",
              "      fill: #FFFFFF;\n",
              "    }\n",
              "  </style>\n",
              "\n",
              "      <script>\n",
              "        const buttonEl =\n",
              "          document.querySelector('#df-43a098df-07af-4aae-9b07-3544c942c5a7 button.colab-df-convert');\n",
              "        buttonEl.style.display =\n",
              "          google.colab.kernel.accessAllowed ? 'block' : 'none';\n",
              "\n",
              "        async function convertToInteractive(key) {\n",
              "          const element = document.querySelector('#df-43a098df-07af-4aae-9b07-3544c942c5a7');\n",
              "          const dataTable =\n",
              "            await google.colab.kernel.invokeFunction('convertToInteractive',\n",
              "                                                     [key], {});\n",
              "          if (!dataTable) return;\n",
              "\n",
              "          const docLinkHtml = 'Like what you see? Visit the ' +\n",
              "            '<a target=\"_blank\" href=https://colab.research.google.com/notebooks/data_table.ipynb>data table notebook</a>'\n",
              "            + ' to learn more about interactive tables.';\n",
              "          element.innerHTML = '';\n",
              "          dataTable['output_type'] = 'display_data';\n",
              "          await google.colab.output.renderOutput(dataTable, element);\n",
              "          const docLink = document.createElement('div');\n",
              "          docLink.innerHTML = docLinkHtml;\n",
              "          element.appendChild(docLink);\n",
              "        }\n",
              "      </script>\n",
              "    </div>\n",
              "  </div>\n",
              "  "
            ]
          },
          "metadata": {},
          "execution_count": 24
        }
      ]
    },
    {
      "cell_type": "code",
      "source": [
        "files.download('count.csv') "
      ],
      "metadata": {
        "colab": {
          "base_uri": "https://localhost:8080/",
          "height": 17
        },
        "id": "LR3VT0LgjiHY",
        "outputId": "71eeffc4-4a16-4ab8-8cb6-925b97f6b652"
      },
      "execution_count": 25,
      "outputs": [
        {
          "output_type": "display_data",
          "data": {
            "text/plain": [
              "<IPython.core.display.Javascript object>"
            ],
            "application/javascript": [
              "\n",
              "    async function download(id, filename, size) {\n",
              "      if (!google.colab.kernel.accessAllowed) {\n",
              "        return;\n",
              "      }\n",
              "      const div = document.createElement('div');\n",
              "      const label = document.createElement('label');\n",
              "      label.textContent = `Downloading \"${filename}\": `;\n",
              "      div.appendChild(label);\n",
              "      const progress = document.createElement('progress');\n",
              "      progress.max = size;\n",
              "      div.appendChild(progress);\n",
              "      document.body.appendChild(div);\n",
              "\n",
              "      const buffers = [];\n",
              "      let downloaded = 0;\n",
              "\n",
              "      const channel = await google.colab.kernel.comms.open(id);\n",
              "      // Send a message to notify the kernel that we're ready.\n",
              "      channel.send({})\n",
              "\n",
              "      for await (const message of channel.messages) {\n",
              "        // Send a message to notify the kernel that we're ready.\n",
              "        channel.send({})\n",
              "        if (message.buffers) {\n",
              "          for (const buffer of message.buffers) {\n",
              "            buffers.push(buffer);\n",
              "            downloaded += buffer.byteLength;\n",
              "            progress.value = downloaded;\n",
              "          }\n",
              "        }\n",
              "      }\n",
              "      const blob = new Blob(buffers, {type: 'application/binary'});\n",
              "      const a = document.createElement('a');\n",
              "      a.href = window.URL.createObjectURL(blob);\n",
              "      a.download = filename;\n",
              "      div.appendChild(a);\n",
              "      a.click();\n",
              "      div.remove();\n",
              "    }\n",
              "  "
            ]
          },
          "metadata": {}
        },
        {
          "output_type": "display_data",
          "data": {
            "text/plain": [
              "<IPython.core.display.Javascript object>"
            ],
            "application/javascript": [
              "download(\"download_df9a1fe4-5d7f-44b4-abd8-2e8b53b83bdf\", \"count.csv\", 6345)"
            ]
          },
          "metadata": {}
        }
      ]
    },
    {
      "cell_type": "code",
      "source": [
        "search_names=[]\n",
        "for i in range(len(count_names)):\n",
        "  if count_names[i]>20 and count_names[i]<=30:\n",
        "    search_names.append(unique_names[i])\n"
      ],
      "metadata": {
        "id": "1dyLzVW2kXBJ"
      },
      "execution_count": 26,
      "outputs": []
    },
    {
      "cell_type": "code",
      "source": [
        "search_names.remove('st Barnabas st Barnabas')\n",
        "search_names.append('Ruchi Panse')"
      ],
      "metadata": {
        "id": "zTo70mWblgWZ"
      },
      "execution_count": 42,
      "outputs": []
    },
    {
      "cell_type": "code",
      "source": [
        "name_emotion=[]\n",
        "for i in range(len(search_names)):\n",
        "  name_s=search_names[i]\n",
        "  temp=[]\n",
        "  for j in range(len(names)):\n",
        "    if(name_s==names[j]):\n",
        "      temp.append(emotions[j])\n",
        "  name_emotion.append(temp)"
      ],
      "metadata": {
        "id": "gwMmy_P2lkn5"
      },
      "execution_count": 43,
      "outputs": []
    },
    {
      "cell_type": "code",
      "source": [
        "name_emotion"
      ],
      "metadata": {
        "colab": {
          "base_uri": "https://localhost:8080/"
        },
        "id": "SG8Mkp9xpHDI",
        "outputId": "b612fcbb-749a-4bf2-fb15-41000c052ec9"
      },
      "execution_count": 44,
      "outputs": [
        {
          "output_type": "execute_result",
          "data": {
            "text/plain": [
              "[['neutral',\n",
              "  'neutral',\n",
              "  'neutral',\n",
              "  'neutral',\n",
              "  'neutral',\n",
              "  'neutral',\n",
              "  'neutral',\n",
              "  'neutral',\n",
              "  'neutral',\n",
              "  'neutral',\n",
              "  'neutral',\n",
              "  'neutral',\n",
              "  'neutral',\n",
              "  'neutral',\n",
              "  'neutral',\n",
              "  'neutral',\n",
              "  'neutral',\n",
              "  'neutral',\n",
              "  'neutral',\n",
              "  'neutral',\n",
              "  'neutral',\n",
              "  'neutral',\n",
              "  'neutral',\n",
              "  'neutral',\n",
              "  'neutral'],\n",
              " ['neutral',\n",
              "  'neutral',\n",
              "  'neutral',\n",
              "  'neutral',\n",
              "  'neutral',\n",
              "  'neutral',\n",
              "  'neutral',\n",
              "  'neutral',\n",
              "  'neutral',\n",
              "  'neutral',\n",
              "  'neutral',\n",
              "  'neutral',\n",
              "  'neutral',\n",
              "  'neutral',\n",
              "  'neutral',\n",
              "  'neutral',\n",
              "  'neutral',\n",
              "  'neutral',\n",
              "  'neutral',\n",
              "  'neutral',\n",
              "  'neutral',\n",
              "  'neutral',\n",
              "  'neutral',\n",
              "  'neutral',\n",
              "  'neutral',\n",
              "  'neutral',\n",
              "  'neutral',\n",
              "  'neutral',\n",
              "  'neutral',\n",
              "  'neutral'],\n",
              " ['happy',\n",
              "  'happy',\n",
              "  'happy',\n",
              "  'happy',\n",
              "  'happy',\n",
              "  'happy',\n",
              "  'happy',\n",
              "  'happy',\n",
              "  'happy',\n",
              "  'happy',\n",
              "  'happy',\n",
              "  'happy',\n",
              "  'happy',\n",
              "  'happy',\n",
              "  'happy',\n",
              "  'happy',\n",
              "  'happy',\n",
              "  'happy',\n",
              "  'happy',\n",
              "  'happy',\n",
              "  'happy',\n",
              "  'happy',\n",
              "  'happy',\n",
              "  'happy',\n",
              "  'happy'],\n",
              " ['neutral',\n",
              "  'neutral',\n",
              "  'neutral',\n",
              "  'neutral',\n",
              "  'neutral',\n",
              "  'neutral',\n",
              "  'neutral',\n",
              "  'neutral',\n",
              "  'neutral',\n",
              "  'neutral',\n",
              "  'neutral',\n",
              "  'neutral',\n",
              "  'neutral',\n",
              "  'neutral',\n",
              "  'neutral',\n",
              "  'neutral',\n",
              "  'neutral',\n",
              "  'neutral',\n",
              "  'neutral',\n",
              "  'neutral',\n",
              "  'neutral',\n",
              "  'neutral',\n",
              "  'neutral',\n",
              "  'neutral',\n",
              "  'neutral',\n",
              "  'neutral'],\n",
              " ['neutral',\n",
              "  'neutral',\n",
              "  'neutral',\n",
              "  'neutral',\n",
              "  'neutral',\n",
              "  'neutral',\n",
              "  'neutral',\n",
              "  'neutral',\n",
              "  'neutral',\n",
              "  'neutral',\n",
              "  'neutral',\n",
              "  'neutral',\n",
              "  'neutral',\n",
              "  'neutral',\n",
              "  'neutral',\n",
              "  'neutral',\n",
              "  'neutral',\n",
              "  'neutral',\n",
              "  'neutral',\n",
              "  'neutral',\n",
              "  'neutral',\n",
              "  'neutral',\n",
              "  'neutral'],\n",
              " ['happy',\n",
              "  'happy',\n",
              "  'happy',\n",
              "  'happy',\n",
              "  'happy',\n",
              "  'happy',\n",
              "  'happy',\n",
              "  'happy',\n",
              "  'happy',\n",
              "  'neutral',\n",
              "  'happy',\n",
              "  'neutral',\n",
              "  'happy',\n",
              "  'happy',\n",
              "  'happy',\n",
              "  'sad',\n",
              "  'happy',\n",
              "  'sad']]"
            ]
          },
          "metadata": {},
          "execution_count": 44
        }
      ]
    },
    {
      "cell_type": "code",
      "source": [
        ""
      ],
      "metadata": {
        "id": "4bd-2cOMVnH1"
      },
      "execution_count": 44,
      "outputs": []
    },
    {
      "cell_type": "code",
      "source": [
        "dict = {'name_search': search_names,'Emotions':name_emotion}\t\n",
        "dfne = pd.DataFrame(dict)\n",
        "dfne.to_csv('name_emotion.csv')\n",
        "dfne"
      ],
      "metadata": {
        "colab": {
          "base_uri": "https://localhost:8080/",
          "height": 238
        },
        "id": "yiwgn1NepJz5",
        "outputId": "24c5867c-a5a7-448a-b952-1a73e1744319"
      },
      "execution_count": 45,
      "outputs": [
        {
          "output_type": "execute_result",
          "data": {
            "text/plain": [
              "   name_search                                           Emotions\n",
              "0  Garg Simran  [neutral, neutral, neutral, neutral, neutral, ...\n",
              "1  Neeraj Fels  [neutral, neutral, neutral, neutral, neutral, ...\n",
              "2   Nitesh kum  [happy, happy, happy, happy, happy, happy, hap...\n",
              "3  Pooja Yadav  [neutral, neutral, neutral, neutral, neutral, ...\n",
              "4    Harsh Rai  [neutral, neutral, neutral, neutral, neutral, ...\n",
              "5  Ruchi Panse  [happy, happy, happy, happy, happy, happy, hap..."
            ],
            "text/html": [
              "\n",
              "  <div id=\"df-6cea3198-46ea-4ecb-b53f-f8f2144f10f6\">\n",
              "    <div class=\"colab-df-container\">\n",
              "      <div>\n",
              "<style scoped>\n",
              "    .dataframe tbody tr th:only-of-type {\n",
              "        vertical-align: middle;\n",
              "    }\n",
              "\n",
              "    .dataframe tbody tr th {\n",
              "        vertical-align: top;\n",
              "    }\n",
              "\n",
              "    .dataframe thead th {\n",
              "        text-align: right;\n",
              "    }\n",
              "</style>\n",
              "<table border=\"1\" class=\"dataframe\">\n",
              "  <thead>\n",
              "    <tr style=\"text-align: right;\">\n",
              "      <th></th>\n",
              "      <th>name_search</th>\n",
              "      <th>Emotions</th>\n",
              "    </tr>\n",
              "  </thead>\n",
              "  <tbody>\n",
              "    <tr>\n",
              "      <th>0</th>\n",
              "      <td>Garg Simran</td>\n",
              "      <td>[neutral, neutral, neutral, neutral, neutral, ...</td>\n",
              "    </tr>\n",
              "    <tr>\n",
              "      <th>1</th>\n",
              "      <td>Neeraj Fels</td>\n",
              "      <td>[neutral, neutral, neutral, neutral, neutral, ...</td>\n",
              "    </tr>\n",
              "    <tr>\n",
              "      <th>2</th>\n",
              "      <td>Nitesh kum</td>\n",
              "      <td>[happy, happy, happy, happy, happy, happy, hap...</td>\n",
              "    </tr>\n",
              "    <tr>\n",
              "      <th>3</th>\n",
              "      <td>Pooja Yadav</td>\n",
              "      <td>[neutral, neutral, neutral, neutral, neutral, ...</td>\n",
              "    </tr>\n",
              "    <tr>\n",
              "      <th>4</th>\n",
              "      <td>Harsh Rai</td>\n",
              "      <td>[neutral, neutral, neutral, neutral, neutral, ...</td>\n",
              "    </tr>\n",
              "    <tr>\n",
              "      <th>5</th>\n",
              "      <td>Ruchi Panse</td>\n",
              "      <td>[happy, happy, happy, happy, happy, happy, hap...</td>\n",
              "    </tr>\n",
              "  </tbody>\n",
              "</table>\n",
              "</div>\n",
              "      <button class=\"colab-df-convert\" onclick=\"convertToInteractive('df-6cea3198-46ea-4ecb-b53f-f8f2144f10f6')\"\n",
              "              title=\"Convert this dataframe to an interactive table.\"\n",
              "              style=\"display:none;\">\n",
              "        \n",
              "  <svg xmlns=\"http://www.w3.org/2000/svg\" height=\"24px\"viewBox=\"0 0 24 24\"\n",
              "       width=\"24px\">\n",
              "    <path d=\"M0 0h24v24H0V0z\" fill=\"none\"/>\n",
              "    <path d=\"M18.56 5.44l.94 2.06.94-2.06 2.06-.94-2.06-.94-.94-2.06-.94 2.06-2.06.94zm-11 1L8.5 8.5l.94-2.06 2.06-.94-2.06-.94L8.5 2.5l-.94 2.06-2.06.94zm10 10l.94 2.06.94-2.06 2.06-.94-2.06-.94-.94-2.06-.94 2.06-2.06.94z\"/><path d=\"M17.41 7.96l-1.37-1.37c-.4-.4-.92-.59-1.43-.59-.52 0-1.04.2-1.43.59L10.3 9.45l-7.72 7.72c-.78.78-.78 2.05 0 2.83L4 21.41c.39.39.9.59 1.41.59.51 0 1.02-.2 1.41-.59l7.78-7.78 2.81-2.81c.8-.78.8-2.07 0-2.86zM5.41 20L4 18.59l7.72-7.72 1.47 1.35L5.41 20z\"/>\n",
              "  </svg>\n",
              "      </button>\n",
              "      \n",
              "  <style>\n",
              "    .colab-df-container {\n",
              "      display:flex;\n",
              "      flex-wrap:wrap;\n",
              "      gap: 12px;\n",
              "    }\n",
              "\n",
              "    .colab-df-convert {\n",
              "      background-color: #E8F0FE;\n",
              "      border: none;\n",
              "      border-radius: 50%;\n",
              "      cursor: pointer;\n",
              "      display: none;\n",
              "      fill: #1967D2;\n",
              "      height: 32px;\n",
              "      padding: 0 0 0 0;\n",
              "      width: 32px;\n",
              "    }\n",
              "\n",
              "    .colab-df-convert:hover {\n",
              "      background-color: #E2EBFA;\n",
              "      box-shadow: 0px 1px 2px rgba(60, 64, 67, 0.3), 0px 1px 3px 1px rgba(60, 64, 67, 0.15);\n",
              "      fill: #174EA6;\n",
              "    }\n",
              "\n",
              "    [theme=dark] .colab-df-convert {\n",
              "      background-color: #3B4455;\n",
              "      fill: #D2E3FC;\n",
              "    }\n",
              "\n",
              "    [theme=dark] .colab-df-convert:hover {\n",
              "      background-color: #434B5C;\n",
              "      box-shadow: 0px 1px 3px 1px rgba(0, 0, 0, 0.15);\n",
              "      filter: drop-shadow(0px 1px 2px rgba(0, 0, 0, 0.3));\n",
              "      fill: #FFFFFF;\n",
              "    }\n",
              "  </style>\n",
              "\n",
              "      <script>\n",
              "        const buttonEl =\n",
              "          document.querySelector('#df-6cea3198-46ea-4ecb-b53f-f8f2144f10f6 button.colab-df-convert');\n",
              "        buttonEl.style.display =\n",
              "          google.colab.kernel.accessAllowed ? 'block' : 'none';\n",
              "\n",
              "        async function convertToInteractive(key) {\n",
              "          const element = document.querySelector('#df-6cea3198-46ea-4ecb-b53f-f8f2144f10f6');\n",
              "          const dataTable =\n",
              "            await google.colab.kernel.invokeFunction('convertToInteractive',\n",
              "                                                     [key], {});\n",
              "          if (!dataTable) return;\n",
              "\n",
              "          const docLinkHtml = 'Like what you see? Visit the ' +\n",
              "            '<a target=\"_blank\" href=https://colab.research.google.com/notebooks/data_table.ipynb>data table notebook</a>'\n",
              "            + ' to learn more about interactive tables.';\n",
              "          element.innerHTML = '';\n",
              "          dataTable['output_type'] = 'display_data';\n",
              "          await google.colab.output.renderOutput(dataTable, element);\n",
              "          const docLink = document.createElement('div');\n",
              "          docLink.innerHTML = docLinkHtml;\n",
              "          element.appendChild(docLink);\n",
              "        }\n",
              "      </script>\n",
              "    </div>\n",
              "  </div>\n",
              "  "
            ]
          },
          "metadata": {},
          "execution_count": 45
        }
      ]
    },
    {
      "cell_type": "code",
      "source": [
        "import matplotlib.pyplot as plt\n",
        "# surprise \t4\n",
        "# 1 \tfear \t35\n",
        "# 2 \tneutral \t637\n",
        "# 3 \tsad \t106\n",
        "# 4 \tangry \t46\n",
        "# 5 \thappy \t\n",
        "y_axis=[]\n",
        "for i in range(len(name_emotion)):\n",
        "  temp=[]\n",
        "  for j in range(len(name_emotion[i])):\n",
        "    if name_emotion[i][j]=='surprise':\n",
        "      temp.append(0)\n",
        "    elif name_emotion[i][j]=='fear':\n",
        "      temp.append(1)\n",
        "    elif name_emotion[i][j]=='neutral':\n",
        "      temp.append(2)\n",
        "    elif name_emotion[i][j]=='sad':\n",
        "      temp.append(3)\n",
        "    elif name_emotion[i][j]=='angry':\n",
        "      temp.append(4)\n",
        "    elif name_emotion[i][j]=='happy':\n",
        "      temp.append(5)\n",
        "  y_axis.append(temp)\n",
        "      "
      ],
      "metadata": {
        "id": "aVTrtbhwqUE5"
      },
      "execution_count": 73,
      "outputs": []
    },
    {
      "cell_type": "code",
      "source": [
        "# import matplotlib.pyplot as plt\n",
        "# y_axis=search_names\n",
        "# plt.xlabel(\"X-axis\")\n",
        "# plt.ylabel(\"Y-axis\")\n",
        "# plt.title(\"A test graph\")\n",
        "# for i in range(len(ra))\n",
        "# plt.legend()\n",
        "# plt.show()"
      ],
      "metadata": {
        "id": "3uHz6L5UV87a"
      },
      "execution_count": 98,
      "outputs": []
    },
    {
      "cell_type": "code",
      "source": [
        "len(y_axis[5])"
      ],
      "metadata": {
        "colab": {
          "base_uri": "https://localhost:8080/"
        },
        "id": "j4N2yzLjX1tJ",
        "outputId": "f2360c5b-302d-49e1-d59a-277e44b022b9"
      },
      "execution_count": 75,
      "outputs": [
        {
          "output_type": "execute_result",
          "data": {
            "text/plain": [
              "18"
            ]
          },
          "metadata": {},
          "execution_count": 75
        }
      ]
    },
    {
      "cell_type": "code",
      "source": [
        "# for i in range(len(search_names)):\n",
        "#   # for j in range(len(x_axis[i])):\n",
        "#     print(x_axis[i])\n",
        "#     x=x_axis[i]\n",
        "#     y=search_names[i]\n",
        "#     plt.plot(x, y)\n",
        "#     plt.show()\n"
      ],
      "metadata": {
        "id": "JRv5tI4OaUyp"
      },
      "execution_count": 99,
      "outputs": []
    },
    {
      "cell_type": "code",
      "source": [
        "# from matplotlib import pyplot as plt\n",
        "    \n",
        "# d = { \"name\" : search_names[0], \"emotion\": x_axis[0]}\n",
        " \n",
        "# plt.plot(\"emotion\",sear,data=d)\n",
        "# plt.show()"
      ],
      "metadata": {
        "id": "vG3hqTRzctz5"
      },
      "execution_count": 96,
      "outputs": []
    },
    {
      "cell_type": "code",
      "source": [
        "import matplotlib.pyplot as plt\n",
        "for i in range(len(search_names)):\n",
        "  x = list(range(1, len(y_axis[i])+1))\n",
        "  # corresponding y axis values\n",
        "  #y = []\n",
        "  y=y_axis[i]\n",
        "  # plotting the points \n",
        "    \n",
        "\n",
        "  plt.plot(x,y)\n",
        "  # set tick positions, adjust label text\n",
        "  plt.yticks(y,name_emotion[i])\n",
        "  plt.xlabel('Frames')\n",
        "  plt.ylabel('Emotions')\n",
        "  plt.margins(x=0,y=0.1)\n",
        "\n",
        "  plt.title(search_names[i])\n",
        "  plt.show()"
      ],
      "metadata": {
        "colab": {
          "base_uri": "https://localhost:8080/",
          "height": 1000
        },
        "id": "VNXneW81tMzX",
        "outputId": "a9e2d1f9-2e8f-4deb-a911-749d971cda7f"
      },
      "execution_count": 113,
      "outputs": [
        {
          "output_type": "display_data",
          "data": {
            "text/plain": [
              "<Figure size 432x288 with 1 Axes>"
            ],
            "image/png": "[encoded data removed]"
          },
          "metadata": {
            "needs_background": "light"
          }
        },
        {
          "output_type": "display_data",
          "data": {
            "text/plain": [
              "<Figure size 432x288 with 1 Axes>"
            ],
            "image/png": "[encoded data removed]"
          },
          "metadata": {
            "needs_background": "light"
          }
        },
        {
          "output_type": "display_data",
          "data": {
            "text/plain": [
              "<Figure size 432x288 with 1 Axes>"
            ],
            "image/png": "[encoded data removed]"
          },
          "metadata": {
            "needs_background": "light"
          }
        },
        {
          "output_type": "display_data",
          "data": {
            "text/plain": [
              "<Figure size 432x288 with 1 Axes>"
            ],
            "image/png": "[encoded data removed]"
          },
          "metadata": {
            "needs_background": "light"
          }
        },
        {
          "output_type": "display_data",
          "data": {
            "text/plain": [
              "<Figure size 432x288 with 1 Axes>"
            ],
            "image/png": "[encoded data removed]"
          },
          "metadata": {
            "needs_background": "light"
          }
        },
        {
          "output_type": "display_data",
          "data": {
            "text/plain": [
              "<Figure size 432x288 with 1 Axes>"
            ],
            "image/png": "[encoded data removed]"
          },
          "metadata": {
            "needs_background": "light"
          }
        }
      ]
    },
    {
      "cell_type": "code",
      "source": [
        "import matplotlib.pyplot as plt\n",
        "i=0\n",
        "x1 = list(range(1, len(y_axis[i])+1))\n",
        "x2 = list(range(1, len(y_axis[i+1])+1))\n",
        "x3 = list(range(1, len(y_axis[i+2])+1))\n",
        "x4 = list(range(1, len(y_axis[i+3])+1))\n",
        "# corresponding y axis values\n",
        "#y = []\n",
        "y1=y_axis[i]\n",
        "y2=y_axis[i+1]\n",
        "y3=y_axis[i+2]\n",
        "y4=y_axis[i+3]\n",
        "\n",
        "  # plotting the points \n",
        "figure, axis = plt.subplots(2, 2)  \n",
        "axis[0, 0].plot(x1, y1)\n",
        "axis[0, 0].set_title(\"Sine Function\")\n",
        "  \n",
        "# For Cosine Function\n",
        "axis[0, 1].plot(x2,y2)\n",
        "axis[0, 1].set_title(\"Cosine Function\")\n",
        "  \n",
        "# For Tangent Function\n",
        "axis[1, 0].plot(x3,y3)\n",
        "axis[1, 0].set_title(\"Tangent Function\")\n",
        "  \n",
        "# For Tanh Function\n",
        "axis[1, 1].plot(x4,y4)\n",
        "axis[1, 1].set_title(\"Tanh Function\")\n",
        "\n",
        "  # set tick positions, adjust label text\n",
        "axis[0,0].yticks(y1,name_emotion[i])\n",
        "  # plt.xlabel('Frames')\n",
        "  # plt.ylabel('Emotions')\n",
        "\n",
        "plt.title(search_names[i])\n",
        "plt.show()\n",
        "  \n"
      ],
      "metadata": {
        "colab": {
          "base_uri": "https://localhost:8080/",
          "height": 505
        },
        "id": "BsekTsQrfsAI",
        "outputId": "0745c6c3-b9c6-4a03-86e2-6a4c4015ced3"
      },
      "execution_count": 108,
      "outputs": [
        {
          "output_type": "error",
          "ename": "AttributeError",
          "evalue": "ignored",
          "traceback": [
            "\u001b[0;31m---------------------------------------------------------------------------\u001b[0m",
            "\u001b[0;31mAttributeError\u001b[0m                            Traceback (most recent call last)",
            "\u001b[0;32m<ipython-input-108-ae283a455dbb>\u001b[0m in \u001b[0;36m<module>\u001b[0;34m()\u001b[0m\n\u001b[1;32m     30\u001b[0m \u001b[0;34m\u001b[0m\u001b[0m\n\u001b[1;32m     31\u001b[0m   \u001b[0;31m# set tick positions, adjust label text\u001b[0m\u001b[0;34m\u001b[0m\u001b[0;34m\u001b[0m\u001b[0;34m\u001b[0m\u001b[0m\n\u001b[0;32m---> 32\u001b[0;31m \u001b[0maxis\u001b[0m\u001b[0;34m[\u001b[0m\u001b[0;36m0\u001b[0m\u001b[0;34m,\u001b[0m\u001b[0;36m0\u001b[0m\u001b[0;34m]\u001b[0m\u001b[0;34m.\u001b[0m\u001b[0myticks\u001b[0m\u001b[0;34m(\u001b[0m\u001b[0my1\u001b[0m\u001b[0;34m,\u001b[0m\u001b[0mname_emotion\u001b[0m\u001b[0;34m[\u001b[0m\u001b[0mi\u001b[0m\u001b[0;34m]\u001b[0m\u001b[0;34m)\u001b[0m\u001b[0;34m\u001b[0m\u001b[0;34m\u001b[0m\u001b[0m\n\u001b[0m\u001b[1;32m     33\u001b[0m   \u001b[0;31m# plt.xlabel('Frames')\u001b[0m\u001b[0;34m\u001b[0m\u001b[0;34m\u001b[0m\u001b[0;34m\u001b[0m\u001b[0m\n\u001b[1;32m     34\u001b[0m   \u001b[0;31m# plt.ylabel('Emotions')\u001b[0m\u001b[0;34m\u001b[0m\u001b[0;34m\u001b[0m\u001b[0;34m\u001b[0m\u001b[0m\n",
            "\u001b[0;31mAttributeError\u001b[0m: 'AxesSubplot' object has no attribute 'yticks'"
          ]
        },
        {
          "output_type": "display_data",
          "data": {
            "text/plain": [
              "<Figure size 432x288 with 4 Axes>"
            ],
            "image/png": "[encoded data removed]"
          },
          "metadata": {
            "needs_background": "light"
          }
        }
      ]
    },
    {
      "cell_type": "code",
      "source": [
        "# import matplotlib.pyplot as plt\n",
        "# import matplotlib.ticker as ticker\n",
        "\n",
        "# plt.scatter(range(5), range(5), s=3)\n",
        "# plt.gca().yaxis.set_major_formatter(ticker.PercentFormatter())\n",
        "# plt.show()"
      ],
      "metadata": {
        "id": "F4F1r3lJjE34"
      },
      "execution_count": 100,
      "outputs": []
    },
    {
      "cell_type": "code",
      "source": [
        "import matplotlib.pyplot as plt\n",
        "import numpy as np\n",
        "k=1\n",
        "for i in range(len(search_names)):\n",
        "  x = list(range(1, len(y_axis[i])+1))\n",
        "  # corresponding y axis values\n",
        "  #y = []\n",
        "  y=y_axis[i]\n",
        "  plt.subplot(2, 3, k)\n",
        "  plt.plot(x,y)\n",
        "  k=k+1\n",
        "  plt.yticks(y,name_emotion[i])\n",
        "  plt.xlabel('Frames')\n",
        "  plt.ylabel('Emotions')\n",
        "  plt.margins(x=0,y=0.1)\n",
        "  if k>7:\n",
        "    k=1\n",
        "plt.subplots_adjust(left=0.2,\n",
        "                    bottom=0.2, \n",
        "                    right=2, \n",
        "                    top=2.5, \n",
        "                    wspace=0.5, \n",
        "                    hspace=0.5)\n",
        "plt.show() "
      ],
      "metadata": {
        "colab": {
          "base_uri": "https://localhost:8080/",
          "height": 724
        },
        "id": "lZF95Rz1kj_n",
        "outputId": "9b6a8df2-fca3-4b76-f291-2e24c9b9d2fb"
      },
      "execution_count": 136,
      "outputs": [
        {
          "output_type": "display_data",
          "data": {
            "text/plain": [
              "<Figure size 432x288 with 6 Axes>"
            ],
            "image/png": "[encoded data removed]"
          },
          "metadata": {
            "needs_background": "light"
          }
        }
      ]
    },
    {
      "cell_type": "code",
      "source": [
        "import matplotlib.pyplot as plt\n",
        "l=0\n",
        "for i in range(len(search_names)):\n",
        "  l = l+1\n",
        "  x = list(range(1, len(y_axis[i])+1))\n",
        "  # corresponding y axis values\n",
        "  #y = []\n",
        "  y=y_axis[i]\n",
        "  # plotting the points \n",
        "  #plt.rcParams[\"figure.figsize\"] = [10.00, 3.50]\n",
        "  #plt.rcParams[\"figure.autolayout\"] = True\n",
        "\n",
        "  plt.subplot(4, 2, l)\n",
        "\n",
        "  # set tick positions, adjust label text\n",
        "  plt.yticks(y,name_emotion[i])\n",
        "  plt.xlabel('Frames')\n",
        "  plt.ylabel('Emotions')\n",
        "  plt.margins(x=0,y=0.1)\n",
        "\n",
        "  plt.title(search_names[i])\n",
        "  plt.plot(x,y)\n",
        "  plt.subplots_adjust(left=0.2,\n",
        "                    bottom=0.2, \n",
        "                    right=2.0, \n",
        "                    top=2.5, \n",
        "                    wspace=0.5, \n",
        "                    hspace=0.5)\n",
        "plt.show()"
      ],
      "metadata": {
        "colab": {
          "base_uri": "https://localhost:8080/",
          "height": 560
        },
        "id": "603jyzj_ssaG",
        "outputId": "ee5c5681-83b6-4de3-d603-6a311507b294"
      },
      "execution_count": 137,
      "outputs": [
        {
          "output_type": "display_data",
          "data": {
            "text/plain": [
              "<Figure size 432x288 with 6 Axes>"
            ],
            "image/png": "[encoded data removed]"
          },
          "metadata": {
            "needs_background": "light"
          }
        }
      ]
    },
    {
      "cell_type": "code",
      "source": [
        "import plotly.graph_objects as go\n",
        "from plotly.subplots import make_subplots\n",
        "\n",
        "import pandas as pd\n",
        "\n",
        "# read in volcano database data\n",
        "df = pd.read_csv(\n",
        "    \"https://raw.githubusercontent.com/plotly/datasets/master/volcano_db.csv\",\n",
        "    encoding=\"iso-8859-1\",\n",
        ")\n",
        "\n",
        "# frequency of Country\n",
        "freq = df\n",
        "freq = freq.Country.value_counts().reset_index().rename(columns={\"index\": \"x\"})\n",
        "\n",
        "# read in 3d volcano surface data\n",
        "df_v = pd.read_csv(\"https://raw.githubusercontent.com/plotly/datasets/master/volcano.csv\")\n",
        "\n",
        "# Initialize figure with subplots\n",
        "fig = make_subplots(\n",
        "    rows=2, cols=2,\n",
        "    column_widths=[0.6, 0.4],\n",
        "    row_heights=[0.4, 0.6],\n",
        "    specs=[[{\"type\": \"scattergeo\", \"rowspan\": 2}, {\"type\": \"bar\"}],\n",
        "           [            None                    , {\"type\": \"surface\"}]])\n",
        "\n",
        "# Add scattergeo globe map of volcano locations\n",
        "fig.add_trace(\n",
        "    go.Scattergeo(lat=df[\"Latitude\"],\n",
        "                  lon=df[\"Longitude\"],\n",
        "                  mode=\"markers\",\n",
        "                  hoverinfo=\"text\",\n",
        "                  showlegend=False,\n",
        "                  marker=dict(color=\"crimson\", size=4, opacity=0.8)),\n",
        "    row=1, col=1\n",
        ")\n",
        "\n",
        "# Add locations bar chart\n",
        "fig.add_trace(\n",
        "    go.Bar(x=freq[\"x\"][0:10],y=freq[\"Country\"][0:10], marker=dict(color=\"crimson\"), showlegend=False),\n",
        "    row=1, col=2\n",
        ")\n",
        "\n",
        "# Add 3d surface of volcano\n",
        "fig.add_trace(\n",
        "    go.Surface(z=df_v.values.tolist(), showscale=False),\n",
        "    row=2, col=2\n",
        ")\n",
        "\n",
        "# Update geo subplot properties\n",
        "fig.update_geos(\n",
        "    projection_type=\"orthographic\",\n",
        "    landcolor=\"white\",\n",
        "    oceancolor=\"MidnightBlue\",\n",
        "    showocean=True,\n",
        "    lakecolor=\"LightBlue\"\n",
        ")\n",
        "\n",
        "# Rotate x-axis labels\n",
        "fig.update_xaxes(tickangle=45)\n",
        "\n",
        "# Set theme, margin, and annotation in layout\n",
        "fig.update_layout(\n",
        "    template=\"plotly_dark\",\n",
        "    margin=dict(r=10, t=25, b=40, l=60),\n",
        "    annotations=[\n",
        "        dict(\n",
        "            text=\"Source: NOAA\",\n",
        "            showarrow=False,\n",
        "            xref=\"paper\",\n",
        "            yref=\"paper\",\n",
        "            x=0,\n",
        "            y=0)\n",
        "    ]\n",
        ")\n",
        "\n",
        "fig.show()"
      ],
      "metadata": {
        "colab": {
          "base_uri": "https://localhost:8080/",
          "height": 241
        },
        "id": "zCq1DdG_xd9l",
        "outputId": "479bc558-1f8f-405e-d012-bc29ca38c9d5"
      },
      "execution_count": 135,
      "outputs": [
        {
          "output_type": "error",
          "ename": "TypeError",
          "evalue": "ignored",
          "traceback": [
            "\u001b[0;31m---------------------------------------------------------------------------\u001b[0m",
            "\u001b[0;31mTypeError\u001b[0m                                 Traceback (most recent call last)",
            "\u001b[0;32m<ipython-input-135-d454a3572339>\u001b[0m in \u001b[0;36m<module>\u001b[0;34m()\u001b[0m\n\u001b[1;32m     32\u001b[0m                   \u001b[0mhoverinfo\u001b[0m\u001b[0;34m=\u001b[0m\u001b[0;34m\"text\"\u001b[0m\u001b[0;34m,\u001b[0m\u001b[0;34m\u001b[0m\u001b[0;34m\u001b[0m\u001b[0m\n\u001b[1;32m     33\u001b[0m                   \u001b[0mshowlegend\u001b[0m\u001b[0;34m=\u001b[0m\u001b[0;32mFalse\u001b[0m\u001b[0;34m,\u001b[0m\u001b[0;34m\u001b[0m\u001b[0;34m\u001b[0m\u001b[0m\n\u001b[0;32m---> 34\u001b[0;31m                   marker=dict(color=\"crimson\", size=4, opacity=0.8)),\n\u001b[0m\u001b[1;32m     35\u001b[0m     \u001b[0mrow\u001b[0m\u001b[0;34m=\u001b[0m\u001b[0;36m1\u001b[0m\u001b[0;34m,\u001b[0m \u001b[0mcol\u001b[0m\u001b[0;34m=\u001b[0m\u001b[0;36m1\u001b[0m\u001b[0;34m\u001b[0m\u001b[0;34m\u001b[0m\u001b[0m\n\u001b[1;32m     36\u001b[0m )\n",
            "\u001b[0;31mTypeError\u001b[0m: 'dict' object is not callable"
          ]
        }
      ]
    },
    {
      "cell_type": "code",
      "source": [
        "unique_names\n"
      ],
      "metadata": {
        "colab": {
          "base_uri": "https://localhost:8080/"
        },
        "id": "PYO_J0Fwz-m1",
        "outputId": "c6393fad-b20e-4485-b26c-694f26350295"
      },
      "execution_count": 138,
      "outputs": [
        {
          "output_type": "execute_result",
          "data": {
            "text/plain": [
              "['',\n",
              " 'Ruchi Panse',\n",
              " 'Gupta Sonu Sey',\n",
              " 'Be tay llesllaeseriaerch',\n",
              " 'jelaisell elated Mehta Mehta',\n",
              " 'eyt',\n",
              " 'Kumar Soni Seley Aditya',\n",
              " 'bikkyl jeselecoes',\n",
              " 'jel aisell elal',\n",
              " 'i llast',\n",
              " 'Aditya releya Kumar Son',\n",
              " 'Shukla Shvam',\n",
              " 'kanchan kumar erie th',\n",
              " 'Singh   Shaver',\n",
              " 'Mlsrivc ls Raunal',\n",
              " 'Manich  alles  am',\n",
              " 'Amar  Sarkan',\n",
              " 'Sanam   Singh',\n",
              " 'Sonu Gupta',\n",
              " 'Shvam bs Flare',\n",
              " 'mele Nifeewestshari',\n",
              " \"HARSH 'CLIADMA\",\n",
              " 'Siatelal el abe',\n",
              " 'et ateistelal reyte kumar th',\n",
              " 'Manish  lomar',\n",
              " 'purushottama  rao',\n",
              " 'Amit ilar',\n",
              " 'kanchan rerte kumar th',\n",
              " 'a tlesteial Amit K',\n",
              " 'o eotistelal Aarkit',\n",
              " 'Che Sagar',\n",
              " 'Sagar cies',\n",
              " 'yYestia Kumar',\n",
              " 'Shrivastava se oS lU',\n",
              " 'Sagar Che',\n",
              " 'st Barnabas st Barnabas',\n",
              " 'Harch Rai',\n",
              " 'Sonu Gupta ey',\n",
              " 'Nandsani St',\n",
              " 'NanGsani St cele',\n",
              " 'ite lelsitia iva',\n",
              " 'bikky aaelaee lm cular',\n",
              " 'charryma cis bikkyl y Kun',\n",
              " 'Sarkan Amar',\n",
              " 'Shvam Shukis',\n",
              " 'tis   Kumar Kumar',\n",
              " 'purushottama r rao',\n",
              " 'mely   NitstwAfahari',\n",
              " 'Nanani SI seial',\n",
              " 'Be tay leslaeseriaeerch',\n",
              " 'Manich alles t om neytc',\n",
              " 'fCitiest Saaar',\n",
              " 'Aditya releya dase Son',\n",
              " 'Shriram   Singh',\n",
              " 'welatelal  may',\n",
              " 'Shvam Shikia  Yr',\n",
              " 'Cities iSlerid',\n",
              " 'Amit Miumar',\n",
              " 'iste lal el abe',\n",
              " 'Meena Rey Neetu',\n",
              " 'Shrivast BS Trelste le taltl Tava',\n",
              " 'weltatitsleiaeliie hs rao',\n",
              " 'ite ieisitia iva',\n",
              " 'HARSH CUIAPMA',\n",
              " 'Amit Kumar',\n",
              " 'Ruchi  Panse',\n",
              " 'Harsch Rai',\n",
              " 'aseivris eanal',\n",
              " 'y Velie Kumar Soni reley',\n",
              " 'Nandsni St hah',\n",
              " 'Raja',\n",
              " 'i eatelst lat rerte kumar th',\n",
              " 'y Velie Kumar feleyl Son',\n",
              " 'charms bikkyl yar',\n",
              " 'Be tay leerleesericern',\n",
              " 'Boisigi ce BS Trelste le taltl Tava',\n",
              " 'Nanani SI hah',\n",
              " 'ite Velsltla iva',\n",
              " \"a'etateistelal reyte kumar th\",\n",
              " 'Singh  ATTK',\n",
              " 'Cities Sagar',\n",
              " 'Shvam his Flare  Yo',\n",
              " 'SHleris Che',\n",
              " 'be laisall eilait Mehta Mehta',\n",
              " 'Shvam Shukla',\n",
              " 'Sarkar Amar',\n",
              " 'Nantian Sha',\n",
              " 'SHARMA LARSL',\n",
              " 'Shrivast Sudhnshu sel',\n",
              " 'Telelal  AKI',\n",
              " 'NiteshAfahari',\n",
              " 'iMveena   Neetu  Neetu',\n",
              " 'Cities  Sagar',\n",
              " 'Amar Sarkar',\n",
              " 'Sark Amar',\n",
              " 'Shivam  Singh',\n",
              " 'Oeihalisteiaetiiee rao',\n",
              " 'ote BStler',\n",
              " 'i Meena   Neetu  Neetu',\n",
              " 'bikky aaelaee lm Cua',\n",
              " 'TWIARPCL CLIAPMA',\n",
              " 'mel   NifstwAfahari',\n",
              " 'SudhSnshu  Shrivastova',\n",
              " 'Citiei  Siecle',\n",
              " 'Kumar feleya Aditya Teta',\n",
              " 'BS lers Cue',\n",
              " 'Shrram Singh',\n",
              " 'Ne aS',\n",
              " 'bikkyl jeselecoe es',\n",
              " 'sles ielsltia iva',\n",
              " 'Sangam ele',\n",
              " 'purushottamar rao',\n",
              " 'ote BSler',\n",
              " 'rrAVsing KLMARI',\n",
              " 'Nanton Sha',\n",
              " 'Shukis Shvam',\n",
              " 'SHARMA HARSH',\n",
              " 'Mehta is latsell eiel is latsell eiel',\n",
              " 'laste ween Aditya foley',\n",
              " 'wy estia Kumar',\n",
              " 'Meena Neetu mey',\n",
              " 'kanchan kumar rerte th',\n",
              " 'KUMARI NAVNITA',\n",
              " 'Manich  alles t om',\n",
              " 'Shrivast BStrelst ls alll TVa',\n",
              " 'irao purushottama r',\n",
              " 'Gite lelsitia iva',\n",
              " 'Nanton i SI shah',\n",
              " 'etatelselal kumar certo th',\n",
              " 'charms bikkyl moar',\n",
              " 'HARSH SHARMA',\n",
              " 'rrAVibe KLMARI',\n",
              " 'i Meena mm ey Neetu',\n",
              " 'Meena Neetu  mey',\n",
              " 'Amit i allestle',\n",
              " 'Bel tay sSlieertlc Ser leee ae',\n",
              " \"HARSH 'CLIADMAA\",\n",
              " 'eltattsseiseliiee rao',\n",
              " 'Shvam Shukis  Yc',\n",
              " 'Garg Simran',\n",
              " 'Shrivaet  SodhSnchu TV',\n",
              " 'Amar Sarkan',\n",
              " 'Shawvam  Singh',\n",
              " 'Shyam is Flare',\n",
              " 'Neeraj Fels',\n",
              " 'Chaudhary Sarita O',\n",
              " 'Shrivacr SudhSnshu Vel',\n",
              " 'jel eisell elat',\n",
              " 'weltatitsleiaeliie ns rao',\n",
              " 'istitielscin Sarita foy',\n",
              " 'Singh o Skit',\n",
              " 'bikkyl lace laee a atleehy',\n",
              " 'Kumar',\n",
              " 'Kumawat Kainal',\n",
              " 'Singh   Saar',\n",
              " 'Malahcincle ase Ss lU',\n",
              " 'iar bikkyl Sharh',\n",
              " 'Mehta elatsallelatt elatsallelatt',\n",
              " 'Sudhnshu Shrivasteyv',\n",
              " 'Singh Sham',\n",
              " 'jer ecisell eilat',\n",
              " 'ola t Kumar',\n",
              " 'o om lalelal AQIKI',\n",
              " 'Kumawat Kunal',\n",
              " 'mlesteial Amit K',\n",
              " 'puruchottama  rao',\n",
              " 'Boiss ce Birelst le taltl ava',\n",
              " 'Shrivacr SudhSnshu  TVa',\n",
              " 'rey',\n",
              " 'Nanani Shz',\n",
              " 'iMvMeena   Neetu  Neetu',\n",
              " 'Nandsani SF cele',\n",
              " 'bikkyl facstelaee ia adleehry',\n",
              " 'Shukla Shvam  Yoo',\n",
              " 'Nitesh detlestel',\n",
              " 'Chaudhary Sarita',\n",
              " 'Sudhnshu Shrivastava',\n",
              " 'Be tay lleslaeseriaerchn',\n",
              " 'Singh o kit',\n",
              " 'Bel tay stlieertle Ser icee ae',\n",
              " 'tle   Kumar',\n",
              " 'otislelal o',\n",
              " 'Sagar Cue',\n",
              " 'Aditya foley Kumar Son',\n",
              " 'slalelal  may',\n",
              " 'isle Velaltia riva',\n",
              " 'Singh AMKI',\n",
              " 'u Meena mm ey Neetu',\n",
              " 'KLMARI NAVNITA',\n",
              " 'Meena meyi Neetu',\n",
              " 'Kumawat Runal',\n",
              " 'i Meena  melon  Neetu',\n",
              " 'Kumar Sor Aditya foley',\n",
              " 'kanchan reyte kumar th',\n",
              " 'eitalisteiaetiiee rao',\n",
              " 'Manish  loomar',\n",
              " 'HARSH CLIAPMA',\n",
              " 'Sanam  Singh',\n",
              " 'Mehta be laisall lal be laisall lal',\n",
              " 'Shrram Beis',\n",
              " 'Mehta jel aisall eilat',\n",
              " 'Nandsani S hah',\n",
              " 'Ne ea oe',\n",
              " 'ela lal   Aki',\n",
              " 'HARSH CLIADMAA',\n",
              " 'Shvam Shukla  Yo',\n",
              " 'Garg Thaales ial',\n",
              " 'Gales ielsltia iva',\n",
              " 'Tatt Kumar O',\n",
              " 'Singh   Saver',\n",
              " 'Gupta Sonu',\n",
              " 'Bel tay sSlieerlcg Ser leee ee',\n",
              " 'aseiris Runa',\n",
              " 'bikkyl Seselesoe se',\n",
              " 'lalelal o AMKI',\n",
              " 'kanchan',\n",
              " 'Kumar Amit',\n",
              " 'Shvam Shukla  a',\n",
              " 'fCitieis Sagar',\n",
              " 'Kumar Soni Aditya rele',\n",
              " 'Sagar Cities',\n",
              " 'Amit i ablestle',\n",
              " 'Cities ilerid',\n",
              " 'BC lee Simran',\n",
              " 'Sudhnshu Shrivastoyv',\n",
              " 'Pooja Vaday',\n",
              " 'oscil bikkyl Sharh',\n",
              " 'mely   NifstwAfahari',\n",
              " 'o mS lalelal AQIKI',\n",
              " 'Nanton SI shah',\n",
              " 'Nitesh kum',\n",
              " 'Sagar Cltleir',\n",
              " 'tls   Kumar',\n",
              " 'Sie Sagar',\n",
              " 'Manich neyt',\n",
              " 'oetllaltisteiaetiie ns rao',\n",
              " 'Ment Il aisall lel Il aisall lel',\n",
              " 'bikkyl Yoaserines a bvedleerl',\n",
              " 'bikky maelgeseren Cua',\n",
              " 'Tl t Kumar',\n",
              " 'Gisele isisitia iva',\n",
              " 'elalelal  Ait',\n",
              " 'eset iceerl bikkyl leskle',\n",
              " 'NiteshwAfahari',\n",
              " 'Sagar Ciiet',\n",
              " 'Mehta iS latsell eile iS latsell eile',\n",
              " 'Pooja Yadav',\n",
              " 'NAVNITA KLIMARI',\n",
              " 'BSlers Cue',\n",
              " 'Shyam Shukla  vo',\n",
              " 'PSingh   Aki',\n",
              " 'Singh Sharam',\n",
              " 'Singh Shivam',\n",
              " 'iMeena   Neetu  Neetu',\n",
              " 'Manich  loirmear',\n",
              " 'Ment',\n",
              " 'Chet Sagar Os',\n",
              " 'Sagar fettie',\n",
              " 'NAVNITA  KIIMARI',\n",
              " 'Manish  loormar',\n",
              " 'bikkyl Seselesoe',\n",
              " 'Tatt Kumar',\n",
              " 'Singh sti iaal',\n",
              " 'Gite leisitia iva',\n",
              " 'Sagar Chie',\n",
              " 'Girls isisitias iva',\n",
              " 'Ve S oe',\n",
              " 'Mehta i latsell clei i latsell clei',\n",
              " 'ie atelst lat rerte kumar th',\n",
              " 'Ve aa',\n",
              " 'SaArwam   Singh',\n",
              " 'late lal o lata',\n",
              " 'eslia Kumar',\n",
              " 'Harsh Rai',\n",
              " 'Nandani Shz',\n",
              " 'Gite lelisitia riva']"
            ]
          },
          "metadata": {},
          "execution_count": 138
        }
      ]
    },
    {
      "cell_type": "code",
      "source": [
        ""
      ],
      "metadata": {
        "id": "QMxGf1UD1jyV"
      },
      "execution_count": null,
      "outputs": []
    }
  ]
}